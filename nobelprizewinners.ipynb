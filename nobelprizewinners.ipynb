{
 "cells": [
  {
   "cell_type": "markdown",
   "metadata": {
    "colab_type": "text",
    "id": "3oj2kkJeLgXt"
   },
   "source": [
    "# Nobel prizes"
   ]
  },
  {
   "cell_type": "code",
   "execution_count": null,
   "metadata": {},
   "outputs": [],
   "source": []
  },
  {
   "cell_type": "markdown",
   "metadata": {
    "colab_type": "text",
    "id": "JQ2z3hFyLgXu"
   },
   "source": [
    "## 1. Loading the data\n",
    "<p><img style=\"float: right;margin:5px 20px 5px 1px; max-width:250px\" src=\"https://s3.amazonaws.com/assets.datacamp.com/production/project_441/img/Nobel_Prize.png\"></p>\n",
    "<p>The Nobel Prize is perhaps the world's most well known scientific award. Except for the honor, prestige and substantial prize money the recipient also gets a gold medal showing Alfred Nobel (1833 - 1896) who established the prize. Every year it's given to scientists and scholars in the categories chemistry, literature, physics, physiology or medicine, economics, and peace. The first Nobel Prize was handed out in 1901, and at that time the Prize was very Eurocentric and male-focused, but nowadays it's not biased in any way whatsoever. Surely. Right?</p>\n",
    "<p>Well, we're going to find out! The Nobel Foundation has made a dataset available of all prize winners from the start of the prize, in 1901, to 2016. Let's load it in and take a look.</p>"
   ]
  },
  {
   "cell_type": "code",
   "execution_count": 1,
   "metadata": {
    "colab": {},
    "colab_type": "code",
    "id": "6n_NXUb6LgXv"
   },
   "outputs": [
    {
     "name": "stdout",
     "output_type": "stream",
     "text": [
      "<class 'pandas.core.frame.DataFrame'>\n",
      "RangeIndex: 911 entries, 0 to 910\n",
      "Data columns (total 18 columns):\n",
      "year                    911 non-null int64\n",
      "category                911 non-null object\n",
      "prize                   911 non-null object\n",
      "motivation              823 non-null object\n",
      "prize_share             911 non-null object\n",
      "laureate_id             911 non-null int64\n",
      "laureate_type           911 non-null object\n",
      "full_name               911 non-null object\n",
      "birth_date              883 non-null object\n",
      "birth_city              883 non-null object\n",
      "birth_country           885 non-null object\n",
      "sex                     885 non-null object\n",
      "organization_name       665 non-null object\n",
      "organization_city       667 non-null object\n",
      "organization_country    667 non-null object\n",
      "death_date              593 non-null object\n",
      "death_city              576 non-null object\n",
      "death_country           582 non-null object\n",
      "dtypes: int64(2), object(16)\n",
      "memory usage: 128.2+ KB\n"
     ]
    }
   ],
   "source": [
    "# Loading in required libraries: you will need pandas, seaborn and numpy\n",
    "# ... YOUR CODE FOR TASK 1 ...\n",
    "import pandas as pd\n",
    "import seaborn as sns\n",
    "import numpy as np\n",
    "\n",
    "# Reading in the Nobel Prize data\n",
    "nobel = pd.read_csv(\"datasets/nobel.csv\")\n",
    "\n",
    "# Explore the data - are there missing values? How many entries do we have?\n",
    "# ... YOUR CODE FOR TASK 1 ...\n",
    "nobel.info()"
   ]
  },
  {
   "cell_type": "markdown",
   "metadata": {
    "colab_type": "text",
    "id": "8iWouA3lLgXy"
   },
   "source": [
    "## 2. So, who gets the Nobel Prize?\n",
    "<p>Just looking at the first couple of prize winners, or Nobel laureates as they are also called, we already see a celebrity: Wilhelm Conrad Röntgen, the guy who discovered X-rays. And actually, we see that all of the winners in 1901 were guys that came from Europe. But that was back in 1901, looking at all winners in the dataset, from 1901 to 2016, which sex and which country is the most commonly represented? </p>\n",
    "<p>(For <em>country</em>, we will use the <code>birth_country</code> of the winner, as the <code>organization_country</code> is <code>NaN</code> for all shared Nobel Prizes.)</p>"
   ]
  },
  {
   "cell_type": "code",
   "execution_count": 41,
   "metadata": {
    "colab": {},
    "colab_type": "code",
    "id": "mAPuUU4OLgXz"
   },
   "outputs": [
    {
     "name": "stdout",
     "output_type": "stream",
     "text": [
      "Number of possibly shared: 244\n",
      "      sex  Total\n",
      "0  Female     49\n",
      "1    Male    836\n"
     ]
    }
   ],
   "source": [
    "# Display the number of (possibly shared) Nobel Prizes handed\n",
    "# out between 1901 and 2016\n",
    "# ... YOUR CODE FOR TASK 2 ...\n",
    "print('Number of possibly shared:',len(nobel[nobel.organization_country.isnull()]))\n",
    "\n",
    "# Display the number of prizes won by male and female recipients.\n",
    "# ... YOUR CODE FOR TASK 2 ...\n",
    "a=pd.DataFrame(nobel.groupby('sex').size()).reset_index()\n",
    "b=a.rename(columns={0:\"Total\"})\n",
    "print(b)"
   ]
  },
  {
   "cell_type": "markdown",
   "metadata": {
    "colab_type": "text",
    "id": "HTA6zz6ILgX1"
   },
   "source": [
    "Which countries win most often?"
   ]
  },
  {
   "cell_type": "markdown",
   "metadata": {
    "colab_type": "text",
    "id": "plyn3XAXLgX2"
   },
   "source": [
    "## 3. USA dominance\n",
    "<p>Not so surprising perhaps: the most common Nobel laureate between 1901 and 2016 was a man born in the United States of America. But in 1901 all the winners were European. When did the USA start to dominate the Nobel Prize charts?</p>\n",
    "    "
   ]
  },
  {
   "cell_type": "code",
   "execution_count": 36,
   "metadata": {
    "colab": {},
    "colab_type": "code",
    "id": "pyr8QN8ELgX2",
    "outputId": "7d9341e1-4f79-43b3-c31d-703fc2a78d88"
   },
   "outputs": [
    {
     "data": {
      "text/html": [
       "<div>\n",
       "<style scoped>\n",
       "    .dataframe tbody tr th:only-of-type {\n",
       "        vertical-align: middle;\n",
       "    }\n",
       "\n",
       "    .dataframe tbody tr th {\n",
       "        vertical-align: top;\n",
       "    }\n",
       "\n",
       "    .dataframe thead th {\n",
       "        text-align: right;\n",
       "    }\n",
       "</style>\n",
       "<table border=\"1\" class=\"dataframe\">\n",
       "  <thead>\n",
       "    <tr style=\"text-align: right;\">\n",
       "      <th></th>\n",
       "      <th>usa_born_winner</th>\n",
       "    </tr>\n",
       "    <tr>\n",
       "      <th>decade</th>\n",
       "      <th></th>\n",
       "    </tr>\n",
       "  </thead>\n",
       "  <tbody>\n",
       "    <tr>\n",
       "      <th>1900.0</th>\n",
       "      <td>0.017544</td>\n",
       "    </tr>\n",
       "    <tr>\n",
       "      <th>1910.0</th>\n",
       "      <td>0.075000</td>\n",
       "    </tr>\n",
       "    <tr>\n",
       "      <th>1920.0</th>\n",
       "      <td>0.074074</td>\n",
       "    </tr>\n",
       "    <tr>\n",
       "      <th>1930.0</th>\n",
       "      <td>0.250000</td>\n",
       "    </tr>\n",
       "    <tr>\n",
       "      <th>1940.0</th>\n",
       "      <td>0.302326</td>\n",
       "    </tr>\n",
       "    <tr>\n",
       "      <th>1950.0</th>\n",
       "      <td>0.291667</td>\n",
       "    </tr>\n",
       "    <tr>\n",
       "      <th>1960.0</th>\n",
       "      <td>0.265823</td>\n",
       "    </tr>\n",
       "    <tr>\n",
       "      <th>1970.0</th>\n",
       "      <td>0.317308</td>\n",
       "    </tr>\n",
       "    <tr>\n",
       "      <th>1980.0</th>\n",
       "      <td>0.319588</td>\n",
       "    </tr>\n",
       "    <tr>\n",
       "      <th>1990.0</th>\n",
       "      <td>0.403846</td>\n",
       "    </tr>\n",
       "    <tr>\n",
       "      <th>2000.0</th>\n",
       "      <td>0.422764</td>\n",
       "    </tr>\n",
       "    <tr>\n",
       "      <th>2010.0</th>\n",
       "      <td>0.292683</td>\n",
       "    </tr>\n",
       "  </tbody>\n",
       "</table>\n",
       "</div>"
      ],
      "text/plain": [
       "        usa_born_winner\n",
       "decade                 \n",
       "1900.0         0.017544\n",
       "1910.0         0.075000\n",
       "1920.0         0.074074\n",
       "1930.0         0.250000\n",
       "1940.0         0.302326\n",
       "1950.0         0.291667\n",
       "1960.0         0.265823\n",
       "1970.0         0.317308\n",
       "1980.0         0.319588\n",
       "1990.0         0.403846\n",
       "2000.0         0.422764\n",
       "2010.0         0.292683"
      ]
     },
     "execution_count": 36,
     "metadata": {},
     "output_type": "execute_result"
    }
   ],
   "source": [
    "# Calculating the proportion of USA born winners per decade\n",
    "nobel['usa_born_winner'] = nobel[\"birth_country\"] == \"United States of America\"\n",
    "nobel['decade'] = (np.floor(nobel[\"year\"]/10) * 10)\n",
    "prop_usa_winner = nobel.groupby('decade')['usa_born_winner'].mean()\n",
    "\n",
    "# Display the proportions of USA born winners per decade\n",
    "# ... YOUR CODE FOR TASK 3 ...\n",
    "pd.DataFrame(prop_usa_winner)"
   ]
  },
  {
   "cell_type": "markdown",
   "metadata": {
    "colab_type": "text",
    "id": "qJWECeNSLgX8"
   },
   "source": [
    "## 4. USA dominance, visualized\n",
    "<p>A table is OK, but to <em>see</em> when the USA started to dominate the Nobel charts we need a plot!</p>"
   ]
  },
  {
   "cell_type": "code",
   "execution_count": 30,
   "metadata": {
    "colab": {},
    "colab_type": "code",
    "id": "BG1IzfHULgX9"
   },
   "outputs": [
    {
     "name": "stdout",
     "output_type": "stream",
     "text": [
      "AxesSubplot(0.125,0.125;0.775x0.755)\n"
     ]
    },
    {
     "data": {
      "image/png": "[encoded data removed]",
      "text/plain": [
       "<Figure size 432x288 with 1 Axes>"
      ]
     },
     "metadata": {
      "needs_background": "light"
     },
     "output_type": "display_data"
    }
   ],
   "source": [
    "#using seaborn, plot the proportion of US winners by decade\n",
    "import seaborn as sns\n",
    "\n",
    "sns.lineplot(x='decade', y='usa_born_winner', data=nobel)\n",
    "print(sns.lineplot(x='decade', y='usa_born_winner', data=nobel))"
   ]
  },
  {
   "cell_type": "markdown",
   "metadata": {
    "colab_type": "text",
    "id": "K0yrBrqzLgX_"
   },
   "source": [
    "What can you conclude from the graph? I can conclude that there's a rapid increase throughout every decade in US and in the 20th century there was a drop probably due to many people involved. The line indicates USA"
   ]
  },
  {
   "cell_type": "markdown",
   "metadata": {
    "colab_type": "text",
    "id": "lNmRYEqLLgYA"
   },
   "source": [
    "## 5. What is the gender of a typical Nobel Prize winner?\n",
    "<p>So the USA became the dominating winner of the Nobel Prize first in the 1930s and had kept the leading position ever since. But one group that was in the lead from the start, and never seems to let go, are <em>men</em>. Maybe it shouldn't come as a shock that there is some imbalance between how many male and female prize winners there are, but how significant is this imbalance? And is it better or worse within specific prize categories like physics, medicine, literature, etc.?</p>"
   ]
  },
  {
   "cell_type": "code",
   "execution_count": 40,
   "metadata": {
    "colab": {},
    "colab_type": "code",
    "id": "Os3hu3BGLgYB",
    "outputId": "1b524b18-0edb-491a-cef9-0adc2be1d37b"
   },
   "outputs": [
    {
     "name": "stdout",
     "output_type": "stream",
     "text": [
      "all time proportion of female winners:  0.05378704720087816\n",
      "   decade    category  proportion\n",
      "0  1900.0   Chemistry    0.000000\n",
      "1  1900.0  Literature    0.100000\n",
      "2  1900.0    Medicine    0.000000\n",
      "3  1900.0       Peace    0.071429\n",
      "4  1900.0     Physics    0.076923\n"
     ]
    },
    {
     "data": {
      "text/plain": [
       "<matplotlib.axes._subplots.AxesSubplot at 0x288d3f48cc0>"
      ]
     },
     "execution_count": 40,
     "metadata": {},
     "output_type": "execute_result"
    },
    {
     "data": {
      "image/png": "[encoded data removed]",
      "text/plain": [
       "<Figure size 432x288 with 1 Axes>"
      ]
     },
     "metadata": {
      "needs_background": "light"
     },
     "output_type": "display_data"
    }
   ],
   "source": [
    "# Calculating the proportion of female laureates per decade\n",
    "nobel['female_winner'] = nobel.sex=='Female'\n",
    "prop_female_winners = nobel.female_winner.mean()\n",
    "\n",
    "# Plot proportion of female winners by decade, grouped by prize category (physics, medicine, etc)\n",
    "# ... YOUR CODE FOR TASK 5 ...\n",
    "print('all time proportion of female winners: ',prop_female_winners)\n",
    "\n",
    "df_female_winners= nobel['female_winner'].groupby([nobel.decade, nobel.category]).mean()\n",
    "df_female_winners= df_female_winners.to_frame('proportion')\n",
    "#df_female_winners['decade']= df_female_winners.index\n",
    "df_female_winners= df_female_winners.reset_index()\n",
    "\n",
    "print(df_female_winners.head())\n",
    "\n",
    "list_cats= df_female_winners.category.unique()\n",
    "#sns.lineplot(x='decade', y='proportion', data= df_female_winners)\n",
    "#df_female_winners.plot(x= 'decade', y='proportion')\n",
    "sns.lineplot(x='decade', y='proportion', hue='category' ,data=df_female_winners)\n"
   ]
  },
  {
   "cell_type": "markdown",
   "metadata": {
    "colab_type": "text",
    "id": "3n8uKBeQLgYE"
   },
   "source": [
    "\n",
    "\n",
    "```\n",
    "# This is formatted as code\n",
    "```\n",
    "\n",
    " Interpret your plot here"
   ]
  },
  {
   "cell_type": "markdown",
   "metadata": {
    "colab_type": "text",
    "id": "bECCDRHOLgYF"
   },
   "source": [
    "## 6. The first woman to win the Nobel Prize\n",
    "<p>The plot above is a bit messy as the lines are overplotting. But it does show some interesting trends and patterns. Overall the imbalance is pretty large with physics, economics, and chemistry having the largest imbalance. Medicine has a somewhat positive trend, and since the 1990s the literature prize is also now more balanced. The big outlier is the peace prize during the 2010s, but keep in mind that this just covers the years 2010 to 2016.</p>\n",
    "<p>Given this imbalance, who was the first woman to receive a Nobel Prize? And in what category?</p>\n"
   ]
  },
  {
   "cell_type": "code",
   "execution_count": null,
   "metadata": {
    "colab": {},
    "colab_type": "code",
    "id": "fr17tW7kLgYG"
   },
   "outputs": [],
   "source": [
    "# Picking out the first woman to win a Nobel Prize\n",
    "# ... YOUR CODE FOR TASK 6 ..."
   ]
  },
  {
   "cell_type": "markdown",
   "metadata": {
    "colab_type": "text",
    "id": "HnHekZkQLgYJ"
   },
   "source": [
    "## 7. Repeat laureates\n",
    "<p>For most scientists/writers/activists a Nobel Prize would be the crowning achievement of a long career. But for some people, one is just not enough, and few have gotten it more than once. Who are these lucky few? (Having won no Nobel Prize myself, I'll assume it's just about luck.)</p>"
   ]
  },
  {
   "cell_type": "code",
   "execution_count": null,
   "metadata": {
    "colab": {},
    "colab_type": "code",
    "id": "0unfnOb7LgYM"
   },
   "outputs": [],
   "source": [
    "# Selecting the laureates that have received 2 or more prizes.\n",
    "# ... YOUR CODE FOR TASK 7 ..."
   ]
  },
  {
   "cell_type": "markdown",
   "metadata": {
    "colab_type": "text",
    "id": "Q_o5qBesLgYT"
   },
   "source": [
    "\n",
    "\n",
    "\n",
    "How many people have received 2 or more prizes?"
   ]
  },
  {
   "cell_type": "markdown",
   "metadata": {
    "colab_type": "text",
    "id": "LQ3gth_3LgYT"
   },
   "source": [
    "## 8. How old are you when you get the prize?\n",
    "<p>The list of repeat winners contains some illustrious names! We again meet Marie Curie, who got the prize in physics for discovering radiation and in chemistry for isolating radium and polonium. John Bardeen got it twice in physics for transistors and superconductivity, Frederick Sanger got it twice in chemistry, and Linus Carl Pauling got it first in chemistry and later in peace for his work in promoting nuclear disarmament. We also learn that organizations also get the prize as both the Red Cross and the UNHCR have gotten it twice.</p>\n",
    "<p>But how old are you generally when you get the prize?</p>"
   ]
  },
  {
   "cell_type": "code",
   "execution_count": null,
   "metadata": {
    "colab": {},
    "colab_type": "code",
    "id": "kahpyBNzLgYU"
   },
   "outputs": [],
   "source": [
    "# Converting birth_date from String to datetime\n",
    "nobel['birth_date'] = ...\n",
    "\n",
    "# Calculating the age of Nobel Prize winners\n",
    "nobel['age'] = ...\n",
    "\n",
    "# What is the mean age of winners and it's standard devation? What is the median age?"
   ]
  },
  {
   "cell_type": "markdown",
   "metadata": {
    "colab_type": "text",
    "id": "JRO7eu1jLgYX"
   },
   "source": [
    "## 9. Age differences between prize categories\n"
   ]
  },
  {
   "cell_type": "code",
   "execution_count": null,
   "metadata": {
    "colab": {},
    "colab_type": "code",
    "id": "X7X2waCALgYY"
   },
   "outputs": [],
   "source": [
    "#Plot the age of nobel candidates by decade\n",
    "#YOUR CODE FOR TASK 9 ...\n",
    "\n",
    "# Plot the age of nobel candidates by decade and prize category"
   ]
  },
  {
   "cell_type": "markdown",
   "metadata": {
    "colab_type": "text",
    "id": "CmDtQ5msLgYd"
   },
   "source": [
    "What can you conclude about the age at which people win different types of Nobel Prizes?"
   ]
  },
  {
   "cell_type": "markdown",
   "metadata": {
    "colab_type": "text",
    "id": "JT1wmBWRLgYf"
   },
   "source": [
    "## 10. Oldest and youngest winners\n",
    "<p>In the peace category there is a winner around 2010 that seems exceptionally young. This begs the questions, who are the oldest and youngest people ever to have won a Nobel Prize?</p>"
   ]
  },
  {
   "cell_type": "code",
   "execution_count": null,
   "metadata": {
    "colab_type": "text",
    "id": "6BStEi3JLgYg"
   },
   "outputs": [],
   "source": [
    "## Congratulations! You've reached the end of the challenge!"
   ]
  },
  {
   "cell_type": "code",
   "execution_count": null,
   "metadata": {},
   "outputs": [],
   "source": []
  }
 ],
 "metadata": {
  "colab": {
   "name": "nobelprizewinners.ipynb",
   "provenance": [],
   "version": "0.3.2"
  },
  "kernelspec": {
   "display_name": "Python 3",
   "language": "python",
   "name": "python3"
  },
  "language_info": {
   "codemirror_mode": {
    "name": "ipython",
    "version": 3
   },
   "file_extension": ".py",
   "mimetype": "text/x-python",
   "name": "python",
   "nbconvert_exporter": "python",
   "pygments_lexer": "ipython3",
   "version": "3.7.0"
  }
 },
 "nbformat": 4,
 "nbformat_minor": 1
}
